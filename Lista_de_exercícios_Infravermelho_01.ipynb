{
  "nbformat": 4,
  "nbformat_minor": 0,
  "metadata": {
    "colab": {
      "name": "Lista de exercícios - Infravermelho - 01",
      "provenance": [],
      "authorship_tag": "ABX9TyNsNgNpA7yAJ7GHp1nzwPd2",
      "include_colab_link": true
    },
    "kernelspec": {
      "name": "python3",
      "display_name": "Python 3"
    },
    "language_info": {
      "name": "python"
    }
  },
  "cells": [
    {
      "cell_type": "markdown",
      "metadata": {
        "id": "view-in-github",
        "colab_type": "text"
      },
      "source": [
        "<a href=\"https://colab.research.google.com/github/marcosmvgs/CEAAE---Ostensivo/blob/main/Lista_de_exerc%C3%ADcios_Infravermelho_01.ipynb\" target=\"_parent\"><img src=\"https://colab.research.google.com/assets/colab-badge.svg\" alt=\"Open In Colab\"/></a>"
      ]
    },
    {
      "cell_type": "markdown",
      "metadata": {
        "id": "_BufA-70CWBY"
      },
      "source": [
        "## <center>LISTA DE EXERCÍCIOS 1</center>\n",
        "###<center>FUNDAMENTOS DE INFRAVERMELHO E ELETRO-ÓPTCA</center>\n",
        "\n",
        "Data de entrega: 05/07/2021\n",
        "Nome: Ten Marcos\n",
        "\n",
        "**OBS: Para alguns exercícios será necessário utilizar uma linguagem de programação.**\n",
        "\n",
        "---\n",
        "\n",
        "**1)** Quais dispositivos eletro-ópticos tem na aeronave (asa fixa ou rotativa) que você opera? No máximo em dez linhas de texto para cada item, dê o nome, princípio de funcionamento e situação(ões) de emprego. Para o aluno que não opera aeronave, responda sobre os equipamentos câmera FLIR e MAWS.\n"
      ]
    },
    {
      "cell_type": "markdown",
      "metadata": {
        "id": "D9gqCgNxDPyD"
      },
      "source": [
        "2)\tConsulte no portal da FAB as notícias mais recentes sobre a sua aeronave ou míssil que você opera. Resuma em, no máximo, 10 linhas. Para os não operadores de aeronave, responda sobre últimas notícias do GRIPEN.\n"
      ]
    },
    {
      "cell_type": "markdown",
      "metadata": {
        "id": "sx4--eo6DTcJ"
      },
      "source": [
        "3)\tUma grandeza G é dada por 𝐺 = (𝐴 ∙ 𝐵 ∙ 𝐶)/ 𝐷, onde as unidades dimensionais de A, B, C e D são W/(m·oC), m2, oC e m, respectivamente. Qual a unidade G? E no caso em que as dimensões de A, B,C e D sejam W/(m·K), m2, K e µm, respectivamente, qual a unidade de G?\n"
      ]
    },
    {
      "cell_type": "markdown",
      "metadata": {
        "id": "2CKe8VBzFPNq"
      },
      "source": [
        "<img src = \"https://raw.githubusercontent.com/marcosmvgs/CEAAE---Ostensivo/main/3.jpg\">"
      ]
    },
    {
      "cell_type": "markdown",
      "metadata": {
        "id": "IEZ0YD9aHb5Q"
      },
      "source": [
        "**4)**\tConsiderando as unidades das grandezas no SI, avalie a unidade da energia potencial 𝐸𝑝 = 𝑚 𝑔 ℎ, onde m é a massa do objeto, g é a aceleração da gravidade e h é a altura em que se encontra o objeto em relação ao solo. Avalie também a dimensão da energia cinética <p>\n",
        "**𝐸𝑐 = (𝑚 · 𝑣2)/2** de um objeto de massa m a velocidade v.<p>Compare as dimensões de **𝐸𝑝** e **𝐸𝑐**: é o que se espera?\n"
      ]
    },
    {
      "cell_type": "markdown",
      "metadata": {
        "id": "vhU14Tgwnfl6"
      },
      "source": [
        "<img src=\"https://raw.githubusercontent.com/marcosmvgs/CEAAE---Ostensivo/main/4.jpeg\">"
      ]
    },
    {
      "cell_type": "markdown",
      "metadata": {
        "id": "GPpMhhfjIV0h"
      },
      "source": [
        "**5)**\tSabendo que potência P é a variação da energia E ocorrida em um intervalo de tempo t, tal que **P=E/t**, faça a análise de unidades."
      ]
    },
    {
      "cell_type": "markdown",
      "metadata": {
        "id": "RT7TMvPHoXjA"
      },
      "source": [
        "<img src=\"https://raw.githubusercontent.com/marcosmvgs/CEAAE---Ostensivo/main/5.jpeg\">"
      ]
    },
    {
      "cell_type": "markdown",
      "metadata": {
        "id": "Z-JmcNHPIhnY"
      },
      "source": [
        "**6)**\tO efeito de atrito aerodinâmico entre a borda de ataque da asa de uma aeronave a velocidade\n",
        "𝑀 e o ar atmosférico a temperatura 𝑇0 provoca uma região de estagnação com temperatura 𝑇𝑠 que vai aquecer a borda de ataque. Esse aumento de temperatura da borda de ataque aumenta a assinatura na banda do infravermelho da aeronave. A temperatura de estagnação\n",
        "𝑇𝑠, em kelvin, é dada por:<p>\n",
        " \n",
        "\n",
        "**<center>𝑇𝑠 = 𝑇o[1 + 𝑟(𝛾 − 1)/2x𝑀²]</center>**<P>\n",
        "\n",
        " \n",
        "onde o recovery factor 𝑟 = 0,82 para fluxo laminar; 0,87 para fluxo turbulento; 𝛾 = 1,4 (razão entre o calor específico do ar a pressão e volume constantes) e 𝑀 = número de Mach. Vide livro do Hudson, pg 101.<p>\n",
        "**6.1**\tBaseando-se na expressão de 𝑇𝑠, avalie sua unidade.\n"
      ]
    },
    {
      "cell_type": "markdown",
      "metadata": {
        "id": "mN0NzQCJqiiA"
      },
      "source": [
        "<img src=\"https://raw.githubusercontent.com/marcosmvgs/CEAAE---Ostensivo/main/6.jpeg\">"
      ]
    },
    {
      "cell_type": "markdown",
      "metadata": {
        "id": "pcNT8QhwI9dH"
      },
      "source": [
        "**6.2** Use um programa para calcular e plotar a temperatura de estagnação 𝑇𝑠 \n",
        "\n",
        "1.   Item da lista\n",
        "2.   Item da lista\n",
        "\n",
        "para velocidades **𝑀 = 0,5, 0,9, 1,2, 1,6 e 2,2**, para regime turbulento, para o caso de temperatura ambiente de 15 oC. No mesmo gráfico, plote as curvas para temperaturas ambientes de **10°C, 5°C, 0°C, -5°C e -10°C.**\n"
      ]
    },
    {
      "cell_type": "code",
      "metadata": {
        "id": "rIltymYpJpJA"
      },
      "source": [
        "# Importando as bibliotecas necessárias\n",
        "import numpy as np\n",
        "import matplotlib.pyplot as plt"
      ],
      "execution_count": 3,
      "outputs": []
    },
    {
      "cell_type": "code",
      "metadata": {
        "id": "rnNixmW0JpuW"
      },
      "source": [
        "# configurando a visualização\n",
        "%matplotlib inline\n",
        "%config InlineBackend.figure_format = 'svg'\n"
      ],
      "execution_count": 11,
      "outputs": []
    },
    {
      "cell_type": "code",
      "metadata": {
        "id": "Zjg-BmjyJwDL"
      },
      "source": [
        "# Definindo a função que irá receber um array com os números de Mach e uma temperatura ambiente e retornará outro array\n",
        "# contendo as respectivas temperaturas de estagnação. \n",
        "\n",
        "def ts(M, t = 15):\n",
        "    ts = []\n",
        "    for i in M:\n",
        "        estag = (t+273)*(1+0.82*(0.2)*i**(2))\n",
        "        ts.append(estag)\n",
        "    ts = np.asarray(ts)\n",
        "    return ts"
      ],
      "execution_count": 17,
      "outputs": []
    },
    {
      "cell_type": "code",
      "metadata": {
        "id": "ro_qq-Y2J0zg"
      },
      "source": [
        "# Array com os respectivos números de Mach mach_r são os números exatos que foram dados no exercício\n",
        "# mach_f são números de Mach fictícios aleatórios entre o máximo e o mínimo dados no exercício para melhorar a visualização do gráfico\n",
        "\n",
        "mach_r = np.array([0.5, 0.9, 1.2, 1.6, 2.2])\n",
        "mach_f = np.arange(0.5, 2.25, 0.1)\n",
        "\n",
        "\n",
        "# Executando a função ts()\n",
        "ts(mach_r)\n",
        "ts(mach_f)\n"
      ],
      "execution_count": null,
      "outputs": []
    },
    {
      "cell_type": "code",
      "metadata": {
        "colab": {
          "base_uri": "https://localhost:8080/",
          "height": 477
        },
        "id": "nVsvmRNTJ2XB",
        "outputId": "586fce0e-20da-427a-8c24-14348f0dd4d4"
      },
      "source": [
        "# Plote do gráfico de temperatura de estagnação por número de Mach para cada temperatura \n",
        "\n",
        "fig, ax = plt.subplots(figsize = (15,5))\n",
        "\n",
        "plt.rcParams['font.family'] = 'sans-serif'\n",
        "\n",
        "# Criando uma sequência de variáveis com as cores de cada plote para facilitar na hora de atribuí-las aos elementos\n",
        "AZUL_3, AZUL_2, CINZA= \"#496AF0\", \"#4EE2F0\", \"#8D8F8E\"\n",
        "AMARELO, LARANJA, VERMELHO = \"#FFCB3A\", \"#FFA364\", \"#FF4D5D\"\n",
        "\n",
        "# Cada par de variáveis abaixo representam dois plotes para cada temperatura. A variável t1 representa o plote em linha contínua\n",
        "# a variável t1_1 representa apenas a marcação (círculos) nos valores que eu quero destacar, que são os apresentados na lista\n",
        "\n",
        "t1 = ax.scatter(mach, ts(mach), marker='.', color =VERMELHO)\n",
        "t1_1 = ax.plot(mach_f, ts(mach_f), label = '15ºC', color =VERMELHO)\n",
        "\n",
        "t2 = ax.scatter(mach, ts(mach, t=10), marker = '.',  color = LARANJA)\n",
        "t2_1 = ax.plot(mach_f, ts(mach_f, t=10), label = '10ºC', color = LARANJA)\n",
        "\n",
        "t3 = ax.scatter(mach, ts(mach, t=5), marker = '.', color = AMARELO)\n",
        "t3_1 = ax.plot(mach_f, ts(mach_f, t=5), label = '5ºC', color = AMARELO )\n",
        "\n",
        "t4 = ax.scatter(mach, ts(mach, t=0), marker = '.', color = CINZA)\n",
        "t4_1 = ax.plot(mach_f, ts(mach_f, t=0), label = '0ºC', color = CINZA)\n",
        "\n",
        "t5 = ax.scatter(mach, ts(mach, t=-5), marker = '.', color = AZUL_2)\n",
        "t5_1 = ax.plot(mach_f, ts(mach_f, t = -5), label = '-5ºC', color = AZUL_2)\n",
        "\n",
        "t6 = ax.scatter(mach, ts(mach, t=-10), marker = '.', color = AZUL_3)\n",
        "t6_1 = ax.plot(mach_f, ts(mach_f, t = -10), label = '-10ºC', color = AZUL_3)\n",
        "\n",
        "# Retirando os spines de cima e da direita\n",
        "ax.spines['top'].set_visible(False)\n",
        "ax.spines['right'].set_visible(False)\n",
        "\n",
        "#Ativando a legenda, colocando labels nos eixos x e y, configurando o grid e título\n",
        "ax.legend()\n",
        "ax.set_ylabel('Temperatura de Estagnação(K)', fontsize = 15)\n",
        "ax.set_xlabel('Número de Mach (M)', fontsize = 15)\n",
        "plt.grid(color=\"#C8C8C8\", linestyle='-', linewidth=.4)\n",
        "plt.text(1.35, 535, 'Temperatura de Estagnação em função do Número de Mach', fontsize = 18, color = \"#4F4E4F\", horizontalalignment='center')\n",
        "\n",
        "\n",
        "plt.show(fig)\n",
        "fig.savefig('Grafico Mach por Temp Estag.png')\n",
        "\n"
      ],
      "execution_count": 133,
      "outputs": [
        {
          "output_type": "display_data",
          "data": {
            "text/plain": [
              "<Figure size 1080x360 with 1 Axes>"
            ],
            "image/svg+xml": "<?xml version=\"1.0\" encoding=\"utf-8\" standalone=\"no\"?>\n<!DOCTYPE svg PUBLIC \"-//W3C//DTD SVG 1.1//EN\"\n  \"http://www.w3.org/Graphics/SVG/1.1/DTD/svg11.dtd\">\n<!-- Created with matplotlib (https://matplotlib.org/) -->\n<svg height=\"342.158667pt\" version=\"1.1\" viewBox=\"0 0 896.260156 342.158667\" width=\"896.260156pt\" xmlns=\"http://www.w3.org/2000/svg\" xmlns:xlink=\"http://www.w3.org/1999/xlink\">\n <defs>\n  <style type=\"text/css\">\n*{stroke-linecap:butt;stroke-linejoin:round;}\n  </style>\n </defs>\n <g id=\"figure_1\">\n  <g id=\"patch_1\">\n   <path d=\"M 0 342.158667 \nL 896.260156 342.158667 \nL 896.260156 0 \nL 0 0 \nz\n\" style=\"fill:none;\"/>\n  </g>\n  <g id=\"axes_1\">\n   <g id=\"patch_2\">\n    <path d=\"M 52.060156 299.763354 \nL 889.060156 299.763354 \nL 889.060156 27.963354 \nL 52.060156 27.963354 \nz\n\" style=\"fill:#ffffff;\"/>\n   </g>\n   <g id=\"PathCollection_1\">\n    <defs>\n     <path d=\"M 0 1.5 \nC 0.397805 1.5 0.77937 1.341951 1.06066 1.06066 \nC 1.341951 0.77937 1.5 0.397805 1.5 0 \nC 1.5 -0.397805 1.341951 -0.77937 1.06066 -1.06066 \nC 0.77937 -1.341951 0.397805 -1.5 0 -1.5 \nC -0.397805 -1.5 -0.77937 -1.341951 -1.06066 -1.06066 \nC -1.341951 -0.77937 -1.5 -0.397805 -1.5 0 \nC -1.5 0.397805 -1.341951 0.77937 -1.06066 1.06066 \nC -0.77937 1.341951 -0.397805 1.5 0 1.5 \nz\n\" id=\"mf474488bb7\" style=\"stroke:#ff4d5d;\"/>\n    </defs>\n    <g clip-path=\"url(#p78931dc2c7)\">\n     <use style=\"fill:#ff4d5d;stroke:#ff4d5d;\" x=\"90.105611\" xlink:href=\"#mf474488bb7\" y=\"260.926048\"/>\n     <use style=\"fill:#ff4d5d;stroke:#ff4d5d;\" x=\"269.143044\" xlink:href=\"#mf474488bb7\" y=\"234.010892\"/>\n     <use style=\"fill:#ff4d5d;stroke:#ff4d5d;\" x=\"403.421119\" xlink:href=\"#mf474488bb7\" y=\"203.731343\"/>\n     <use style=\"fill:#ff4d5d;stroke:#ff4d5d;\" x=\"582.458552\" xlink:href=\"#mf474488bb7\" y=\"149.901032\"/>\n     <use style=\"fill:#ff4d5d;stroke:#ff4d5d;\" x=\"851.014702\" xlink:href=\"#mf474488bb7\" y=\"40.3179\"/>\n    </g>\n   </g>\n   <g id=\"PathCollection_2\">\n    <defs>\n     <path d=\"M 0 1.5 \nC 0.397805 1.5 0.77937 1.341951 1.06066 1.06066 \nC 1.341951 0.77937 1.5 0.397805 1.5 0 \nC 1.5 -0.397805 1.341951 -0.77937 1.06066 -1.06066 \nC 0.77937 -1.341951 0.397805 -1.5 0 -1.5 \nC -0.397805 -1.5 -0.77937 -1.341951 -1.06066 -1.06066 \nC -1.341951 -0.77937 -1.5 -0.397805 -1.5 0 \nC -1.5 0.397805 -1.341951 0.77937 -1.06066 1.06066 \nC -0.77937 1.341951 -0.397805 1.5 0 1.5 \nz\n\" id=\"md8bcf069f9\" style=\"stroke:#ffa364;\"/>\n    </defs>\n    <g clip-path=\"url(#p78931dc2c7)\">\n     <use style=\"fill:#ffa364;stroke:#ffa364;\" x=\"90.105611\" xlink:href=\"#md8bcf069f9\" y=\"266.2226\"/>\n     <use style=\"fill:#ffa364;stroke:#ffa364;\" x=\"269.143044\" xlink:href=\"#md8bcf069f9\" y=\"239.774722\"/>\n     <use style=\"fill:#ffa364;stroke:#ffa364;\" x=\"403.421119\" xlink:href=\"#md8bcf069f9\" y=\"210.020858\"/>\n     <use style=\"fill:#ffa364;stroke:#ffa364;\" x=\"582.458552\" xlink:href=\"#md8bcf069f9\" y=\"157.125102\"/>\n     <use style=\"fill:#ffa364;stroke:#ffa364;\" x=\"851.014702\" xlink:href=\"#md8bcf069f9\" y=\"49.444455\"/>\n    </g>\n   </g>\n   <g id=\"PathCollection_3\">\n    <defs>\n     <path d=\"M 0 1.5 \nC 0.397805 1.5 0.77937 1.341951 1.06066 1.06066 \nC 1.341951 0.77937 1.5 0.397805 1.5 0 \nC 1.5 -0.397805 1.341951 -0.77937 1.06066 -1.06066 \nC 0.77937 -1.341951 0.397805 -1.5 0 -1.5 \nC -0.397805 -1.5 -0.77937 -1.341951 -1.06066 -1.06066 \nC -1.341951 -0.77937 -1.5 -0.397805 -1.5 0 \nC -1.5 0.397805 -1.341951 0.77937 -1.06066 1.06066 \nC -0.77937 1.341951 -0.397805 1.5 0 1.5 \nz\n\" id=\"mbc9b0bdec2\" style=\"stroke:#ffcb3a;\"/>\n    </defs>\n    <g clip-path=\"url(#p78931dc2c7)\">\n     <use style=\"fill:#ffcb3a;stroke:#ffcb3a;\" x=\"90.105611\" xlink:href=\"#mbc9b0bdec2\" y=\"271.519152\"/>\n     <use style=\"fill:#ffcb3a;stroke:#ffcb3a;\" x=\"269.143044\" xlink:href=\"#mbc9b0bdec2\" y=\"245.538551\"/>\n     <use style=\"fill:#ffcb3a;stroke:#ffcb3a;\" x=\"403.421119\" xlink:href=\"#mbc9b0bdec2\" y=\"216.310374\"/>\n     <use style=\"fill:#ffcb3a;stroke:#ffcb3a;\" x=\"582.458552\" xlink:href=\"#mbc9b0bdec2\" y=\"164.349172\"/>\n     <use style=\"fill:#ffcb3a;stroke:#ffcb3a;\" x=\"851.014702\" xlink:href=\"#mbc9b0bdec2\" y=\"58.571009\"/>\n    </g>\n   </g>\n   <g id=\"PathCollection_4\">\n    <defs>\n     <path d=\"M 0 1.5 \nC 0.397805 1.5 0.77937 1.341951 1.06066 1.06066 \nC 1.341951 0.77937 1.5 0.397805 1.5 0 \nC 1.5 -0.397805 1.341951 -0.77937 1.06066 -1.06066 \nC 0.77937 -1.341951 0.397805 -1.5 0 -1.5 \nC -0.397805 -1.5 -0.77937 -1.341951 -1.06066 -1.06066 \nC -1.341951 -0.77937 -1.5 -0.397805 -1.5 0 \nC -1.5 0.397805 -1.341951 0.77937 -1.06066 1.06066 \nC -0.77937 1.341951 -0.397805 1.5 0 1.5 \nz\n\" id=\"m8e0d221905\" style=\"stroke:#8d8f8e;\"/>\n    </defs>\n    <g clip-path=\"url(#p78931dc2c7)\">\n     <use style=\"fill:#8d8f8e;stroke:#8d8f8e;\" x=\"90.105611\" xlink:href=\"#m8e0d221905\" y=\"276.815704\"/>\n     <use style=\"fill:#8d8f8e;stroke:#8d8f8e;\" x=\"269.143044\" xlink:href=\"#m8e0d221905\" y=\"251.30238\"/>\n     <use style=\"fill:#8d8f8e;stroke:#8d8f8e;\" x=\"403.421119\" xlink:href=\"#m8e0d221905\" y=\"222.59989\"/>\n     <use style=\"fill:#8d8f8e;stroke:#8d8f8e;\" x=\"582.458552\" xlink:href=\"#m8e0d221905\" y=\"171.573242\"/>\n     <use style=\"fill:#8d8f8e;stroke:#8d8f8e;\" x=\"851.014702\" xlink:href=\"#m8e0d221905\" y=\"67.697564\"/>\n    </g>\n   </g>\n   <g id=\"PathCollection_5\">\n    <defs>\n     <path d=\"M 0 1.5 \nC 0.397805 1.5 0.77937 1.341951 1.06066 1.06066 \nC 1.341951 0.77937 1.5 0.397805 1.5 0 \nC 1.5 -0.397805 1.341951 -0.77937 1.06066 -1.06066 \nC 0.77937 -1.341951 0.397805 -1.5 0 -1.5 \nC -0.397805 -1.5 -0.77937 -1.341951 -1.06066 -1.06066 \nC -1.341951 -0.77937 -1.5 -0.397805 -1.5 0 \nC -1.5 0.397805 -1.341951 0.77937 -1.06066 1.06066 \nC -0.77937 1.341951 -0.397805 1.5 0 1.5 \nz\n\" id=\"m285298ffed\" style=\"stroke:#4ee2f0;\"/>\n    </defs>\n    <g clip-path=\"url(#p78931dc2c7)\">\n     <use style=\"fill:#4ee2f0;stroke:#4ee2f0;\" x=\"90.105611\" xlink:href=\"#m285298ffed\" y=\"282.112257\"/>\n     <use style=\"fill:#4ee2f0;stroke:#4ee2f0;\" x=\"269.143044\" xlink:href=\"#m285298ffed\" y=\"257.066209\"/>\n     <use style=\"fill:#4ee2f0;stroke:#4ee2f0;\" x=\"403.421119\" xlink:href=\"#m285298ffed\" y=\"228.889406\"/>\n     <use style=\"fill:#4ee2f0;stroke:#4ee2f0;\" x=\"582.458552\" xlink:href=\"#m285298ffed\" y=\"178.797312\"/>\n     <use style=\"fill:#4ee2f0;stroke:#4ee2f0;\" x=\"851.014702\" xlink:href=\"#m285298ffed\" y=\"76.824119\"/>\n    </g>\n   </g>\n   <g id=\"PathCollection_6\">\n    <defs>\n     <path d=\"M 0 1.5 \nC 0.397805 1.5 0.77937 1.341951 1.06066 1.06066 \nC 1.341951 0.77937 1.5 0.397805 1.5 0 \nC 1.5 -0.397805 1.341951 -0.77937 1.06066 -1.06066 \nC 0.77937 -1.341951 0.397805 -1.5 0 -1.5 \nC -0.397805 -1.5 -0.77937 -1.341951 -1.06066 -1.06066 \nC -1.341951 -0.77937 -1.5 -0.397805 -1.5 0 \nC -1.5 0.397805 -1.341951 0.77937 -1.06066 1.06066 \nC -0.77937 1.341951 -0.397805 1.5 0 1.5 \nz\n\" id=\"m1033330901\" style=\"stroke:#496af0;\"/>\n    </defs>\n    <g clip-path=\"url(#p78931dc2c7)\">\n     <use style=\"fill:#496af0;stroke:#496af0;\" x=\"90.105611\" xlink:href=\"#m1033330901\" y=\"287.408809\"/>\n     <use style=\"fill:#496af0;stroke:#496af0;\" x=\"269.143044\" xlink:href=\"#m1033330901\" y=\"262.830039\"/>\n     <use style=\"fill:#496af0;stroke:#496af0;\" x=\"403.421119\" xlink:href=\"#m1033330901\" y=\"235.178922\"/>\n     <use style=\"fill:#496af0;stroke:#496af0;\" x=\"582.458552\" xlink:href=\"#m1033330901\" y=\"186.021381\"/>\n     <use style=\"fill:#496af0;stroke:#496af0;\" x=\"851.014702\" xlink:href=\"#m1033330901\" y=\"85.950674\"/>\n    </g>\n   </g>\n   <g id=\"matplotlib.axis_1\">\n    <g id=\"xtick_1\">\n     <g id=\"line2d_1\">\n      <path clip-path=\"url(#p78931dc2c7)\" d=\"M 90.105611 299.763354 \nL 90.105611 27.963354 \n\" style=\"fill:none;stroke:#c8c8c8;stroke-linecap:square;stroke-width:0.4;\"/>\n     </g>\n     <g id=\"line2d_2\">\n      <defs>\n       <path d=\"M 0 0 \nL 0 3.5 \n\" id=\"m02d848231f\" style=\"stroke:#000000;stroke-width:0.8;\"/>\n      </defs>\n      <g>\n       <use style=\"stroke:#000000;stroke-width:0.8;\" x=\"90.105611\" xlink:href=\"#m02d848231f\" y=\"299.763354\"/>\n      </g>\n     </g>\n     <g id=\"text_1\">\n      <!-- 0.50 -->\n      <defs>\n       <path d=\"M 31.78125 66.40625 \nQ 24.171875 66.40625 20.328125 58.90625 \nQ 16.5 51.421875 16.5 36.375 \nQ 16.5 21.390625 20.328125 13.890625 \nQ 24.171875 6.390625 31.78125 6.390625 \nQ 39.453125 6.390625 43.28125 13.890625 \nQ 47.125 21.390625 47.125 36.375 \nQ 47.125 51.421875 43.28125 58.90625 \nQ 39.453125 66.40625 31.78125 66.40625 \nz\nM 31.78125 74.21875 \nQ 44.046875 74.21875 50.515625 64.515625 \nQ 56.984375 54.828125 56.984375 36.375 \nQ 56.984375 17.96875 50.515625 8.265625 \nQ 44.046875 -1.421875 31.78125 -1.421875 \nQ 19.53125 -1.421875 13.0625 8.265625 \nQ 6.59375 17.96875 6.59375 36.375 \nQ 6.59375 54.828125 13.0625 64.515625 \nQ 19.53125 74.21875 31.78125 74.21875 \nz\n\" id=\"DejaVuSans-48\"/>\n       <path d=\"M 10.6875 12.40625 \nL 21 12.40625 \nL 21 0 \nL 10.6875 0 \nz\n\" id=\"DejaVuSans-46\"/>\n       <path d=\"M 10.796875 72.90625 \nL 49.515625 72.90625 \nL 49.515625 64.59375 \nL 19.828125 64.59375 \nL 19.828125 46.734375 \nQ 21.96875 47.46875 24.109375 47.828125 \nQ 26.265625 48.1875 28.421875 48.1875 \nQ 40.625 48.1875 47.75 41.5 \nQ 54.890625 34.8125 54.890625 23.390625 \nQ 54.890625 11.625 47.5625 5.09375 \nQ 40.234375 -1.421875 26.90625 -1.421875 \nQ 22.3125 -1.421875 17.546875 -0.640625 \nQ 12.796875 0.140625 7.71875 1.703125 \nL 7.71875 11.625 \nQ 12.109375 9.234375 16.796875 8.0625 \nQ 21.484375 6.890625 26.703125 6.890625 \nQ 35.15625 6.890625 40.078125 11.328125 \nQ 45.015625 15.765625 45.015625 23.390625 \nQ 45.015625 31 40.078125 35.4375 \nQ 35.15625 39.890625 26.703125 39.890625 \nQ 22.75 39.890625 18.8125 39.015625 \nQ 14.890625 38.140625 10.796875 36.28125 \nz\n\" id=\"DejaVuSans-53\"/>\n      </defs>\n      <g transform=\"translate(78.972798 314.361792)scale(0.1 -0.1)\">\n       <use xlink:href=\"#DejaVuSans-48\"/>\n       <use x=\"63.623047\" xlink:href=\"#DejaVuSans-46\"/>\n       <use x=\"95.410156\" xlink:href=\"#DejaVuSans-53\"/>\n       <use x=\"159.033203\" xlink:href=\"#DejaVuSans-48\"/>\n      </g>\n     </g>\n    </g>\n    <g id=\"xtick_2\">\n     <g id=\"line2d_3\">\n      <path clip-path=\"url(#p78931dc2c7)\" d=\"M 202.004007 299.763354 \nL 202.004007 27.963354 \n\" style=\"fill:none;stroke:#c8c8c8;stroke-linecap:square;stroke-width:0.4;\"/>\n     </g>\n     <g id=\"line2d_4\">\n      <g>\n       <use style=\"stroke:#000000;stroke-width:0.8;\" x=\"202.004007\" xlink:href=\"#m02d848231f\" y=\"299.763354\"/>\n      </g>\n     </g>\n     <g id=\"text_2\">\n      <!-- 0.75 -->\n      <defs>\n       <path d=\"M 8.203125 72.90625 \nL 55.078125 72.90625 \nL 55.078125 68.703125 \nL 28.609375 0 \nL 18.3125 0 \nL 43.21875 64.59375 \nL 8.203125 64.59375 \nz\n\" id=\"DejaVuSans-55\"/>\n      </defs>\n      <g transform=\"translate(190.871194 314.361792)scale(0.1 -0.1)\">\n       <use xlink:href=\"#DejaVuSans-48\"/>\n       <use x=\"63.623047\" xlink:href=\"#DejaVuSans-46\"/>\n       <use x=\"95.410156\" xlink:href=\"#DejaVuSans-55\"/>\n       <use x=\"159.033203\" xlink:href=\"#DejaVuSans-53\"/>\n      </g>\n     </g>\n    </g>\n    <g id=\"xtick_3\">\n     <g id=\"line2d_5\">\n      <path clip-path=\"url(#p78931dc2c7)\" d=\"M 313.902402 299.763354 \nL 313.902402 27.963354 \n\" style=\"fill:none;stroke:#c8c8c8;stroke-linecap:square;stroke-width:0.4;\"/>\n     </g>\n     <g id=\"line2d_6\">\n      <g>\n       <use style=\"stroke:#000000;stroke-width:0.8;\" x=\"313.902402\" xlink:href=\"#m02d848231f\" y=\"299.763354\"/>\n      </g>\n     </g>\n     <g id=\"text_3\">\n      <!-- 1.00 -->\n      <defs>\n       <path d=\"M 12.40625 8.296875 \nL 28.515625 8.296875 \nL 28.515625 63.921875 \nL 10.984375 60.40625 \nL 10.984375 69.390625 \nL 28.421875 72.90625 \nL 38.28125 72.90625 \nL 38.28125 8.296875 \nL 54.390625 8.296875 \nL 54.390625 0 \nL 12.40625 0 \nz\n\" id=\"DejaVuSans-49\"/>\n      </defs>\n      <g transform=\"translate(302.76959 314.361792)scale(0.1 -0.1)\">\n       <use xlink:href=\"#DejaVuSans-49\"/>\n       <use x=\"63.623047\" xlink:href=\"#DejaVuSans-46\"/>\n       <use x=\"95.410156\" xlink:href=\"#DejaVuSans-48\"/>\n       <use x=\"159.033203\" xlink:href=\"#DejaVuSans-48\"/>\n      </g>\n     </g>\n    </g>\n    <g id=\"xtick_4\">\n     <g id=\"line2d_7\">\n      <path clip-path=\"url(#p78931dc2c7)\" d=\"M 425.800798 299.763354 \nL 425.800798 27.963354 \n\" style=\"fill:none;stroke:#c8c8c8;stroke-linecap:square;stroke-width:0.4;\"/>\n     </g>\n     <g id=\"line2d_8\">\n      <g>\n       <use style=\"stroke:#000000;stroke-width:0.8;\" x=\"425.800798\" xlink:href=\"#m02d848231f\" y=\"299.763354\"/>\n      </g>\n     </g>\n     <g id=\"text_4\">\n      <!-- 1.25 -->\n      <defs>\n       <path d=\"M 19.1875 8.296875 \nL 53.609375 8.296875 \nL 53.609375 0 \nL 7.328125 0 \nL 7.328125 8.296875 \nQ 12.9375 14.109375 22.625 23.890625 \nQ 32.328125 33.6875 34.8125 36.53125 \nQ 39.546875 41.84375 41.421875 45.53125 \nQ 43.3125 49.21875 43.3125 52.78125 \nQ 43.3125 58.59375 39.234375 62.25 \nQ 35.15625 65.921875 28.609375 65.921875 \nQ 23.96875 65.921875 18.8125 64.3125 \nQ 13.671875 62.703125 7.8125 59.421875 \nL 7.8125 69.390625 \nQ 13.765625 71.78125 18.9375 73 \nQ 24.125 74.21875 28.421875 74.21875 \nQ 39.75 74.21875 46.484375 68.546875 \nQ 53.21875 62.890625 53.21875 53.421875 \nQ 53.21875 48.921875 51.53125 44.890625 \nQ 49.859375 40.875 45.40625 35.40625 \nQ 44.1875 33.984375 37.640625 27.21875 \nQ 31.109375 20.453125 19.1875 8.296875 \nz\n\" id=\"DejaVuSans-50\"/>\n      </defs>\n      <g transform=\"translate(414.667985 314.361792)scale(0.1 -0.1)\">\n       <use xlink:href=\"#DejaVuSans-49\"/>\n       <use x=\"63.623047\" xlink:href=\"#DejaVuSans-46\"/>\n       <use x=\"95.410156\" xlink:href=\"#DejaVuSans-50\"/>\n       <use x=\"159.033203\" xlink:href=\"#DejaVuSans-53\"/>\n      </g>\n     </g>\n    </g>\n    <g id=\"xtick_5\">\n     <g id=\"line2d_9\">\n      <path clip-path=\"url(#p78931dc2c7)\" d=\"M 537.699194 299.763354 \nL 537.699194 27.963354 \n\" style=\"fill:none;stroke:#c8c8c8;stroke-linecap:square;stroke-width:0.4;\"/>\n     </g>\n     <g id=\"line2d_10\">\n      <g>\n       <use style=\"stroke:#000000;stroke-width:0.8;\" x=\"537.699194\" xlink:href=\"#m02d848231f\" y=\"299.763354\"/>\n      </g>\n     </g>\n     <g id=\"text_5\">\n      <!-- 1.50 -->\n      <g transform=\"translate(526.566381 314.361792)scale(0.1 -0.1)\">\n       <use xlink:href=\"#DejaVuSans-49\"/>\n       <use x=\"63.623047\" xlink:href=\"#DejaVuSans-46\"/>\n       <use x=\"95.410156\" xlink:href=\"#DejaVuSans-53\"/>\n       <use x=\"159.033203\" xlink:href=\"#DejaVuSans-48\"/>\n      </g>\n     </g>\n    </g>\n    <g id=\"xtick_6\">\n     <g id=\"line2d_11\">\n      <path clip-path=\"url(#p78931dc2c7)\" d=\"M 649.597589 299.763354 \nL 649.597589 27.963354 \n\" style=\"fill:none;stroke:#c8c8c8;stroke-linecap:square;stroke-width:0.4;\"/>\n     </g>\n     <g id=\"line2d_12\">\n      <g>\n       <use style=\"stroke:#000000;stroke-width:0.8;\" x=\"649.597589\" xlink:href=\"#m02d848231f\" y=\"299.763354\"/>\n      </g>\n     </g>\n     <g id=\"text_6\">\n      <!-- 1.75 -->\n      <g transform=\"translate(638.464777 314.361792)scale(0.1 -0.1)\">\n       <use xlink:href=\"#DejaVuSans-49\"/>\n       <use x=\"63.623047\" xlink:href=\"#DejaVuSans-46\"/>\n       <use x=\"95.410156\" xlink:href=\"#DejaVuSans-55\"/>\n       <use x=\"159.033203\" xlink:href=\"#DejaVuSans-53\"/>\n      </g>\n     </g>\n    </g>\n    <g id=\"xtick_7\">\n     <g id=\"line2d_13\">\n      <path clip-path=\"url(#p78931dc2c7)\" d=\"M 761.495985 299.763354 \nL 761.495985 27.963354 \n\" style=\"fill:none;stroke:#c8c8c8;stroke-linecap:square;stroke-width:0.4;\"/>\n     </g>\n     <g id=\"line2d_14\">\n      <g>\n       <use style=\"stroke:#000000;stroke-width:0.8;\" x=\"761.495985\" xlink:href=\"#m02d848231f\" y=\"299.763354\"/>\n      </g>\n     </g>\n     <g id=\"text_7\">\n      <!-- 2.00 -->\n      <g transform=\"translate(750.363173 314.361792)scale(0.1 -0.1)\">\n       <use xlink:href=\"#DejaVuSans-50\"/>\n       <use x=\"63.623047\" xlink:href=\"#DejaVuSans-46\"/>\n       <use x=\"95.410156\" xlink:href=\"#DejaVuSans-48\"/>\n       <use x=\"159.033203\" xlink:href=\"#DejaVuSans-48\"/>\n      </g>\n     </g>\n    </g>\n    <g id=\"xtick_8\">\n     <g id=\"line2d_15\">\n      <path clip-path=\"url(#p78931dc2c7)\" d=\"M 873.394381 299.763354 \nL 873.394381 27.963354 \n\" style=\"fill:none;stroke:#c8c8c8;stroke-linecap:square;stroke-width:0.4;\"/>\n     </g>\n     <g id=\"line2d_16\">\n      <g>\n       <use style=\"stroke:#000000;stroke-width:0.8;\" x=\"873.394381\" xlink:href=\"#m02d848231f\" y=\"299.763354\"/>\n      </g>\n     </g>\n     <g id=\"text_8\">\n      <!-- 2.25 -->\n      <g transform=\"translate(862.261568 314.361792)scale(0.1 -0.1)\">\n       <use xlink:href=\"#DejaVuSans-50\"/>\n       <use x=\"63.623047\" xlink:href=\"#DejaVuSans-46\"/>\n       <use x=\"95.410156\" xlink:href=\"#DejaVuSans-50\"/>\n       <use x=\"159.033203\" xlink:href=\"#DejaVuSans-53\"/>\n      </g>\n     </g>\n    </g>\n    <g id=\"text_9\">\n     <!-- Número de Mach (M) -->\n     <defs>\n      <path d=\"M 9.8125 72.90625 \nL 23.09375 72.90625 \nL 55.421875 11.921875 \nL 55.421875 72.90625 \nL 64.984375 72.90625 \nL 64.984375 0 \nL 51.703125 0 \nL 19.390625 60.984375 \nL 19.390625 0 \nL 9.8125 0 \nz\n\" id=\"DejaVuSans-78\"/>\n      <path d=\"M 8.5 21.578125 \nL 8.5 54.6875 \nL 17.484375 54.6875 \nL 17.484375 21.921875 \nQ 17.484375 14.15625 20.5 10.265625 \nQ 23.53125 6.390625 29.59375 6.390625 \nQ 36.859375 6.390625 41.078125 11.03125 \nQ 45.3125 15.671875 45.3125 23.6875 \nL 45.3125 54.6875 \nL 54.296875 54.6875 \nL 54.296875 0 \nL 45.3125 0 \nL 45.3125 8.40625 \nQ 42.046875 3.421875 37.71875 1 \nQ 33.40625 -1.421875 27.6875 -1.421875 \nQ 18.265625 -1.421875 13.375 4.4375 \nQ 8.5 10.296875 8.5 21.578125 \nz\nM 31.109375 56 \nz\nM 37.78125 79.984375 \nL 47.5 79.984375 \nL 31.59375 61.625 \nL 24.109375 61.625 \nz\n\" id=\"DejaVuSans-250\"/>\n      <path d=\"M 52 44.1875 \nQ 55.375 50.25 60.0625 53.125 \nQ 64.75 56 71.09375 56 \nQ 79.640625 56 84.28125 50.015625 \nQ 88.921875 44.046875 88.921875 33.015625 \nL 88.921875 0 \nL 79.890625 0 \nL 79.890625 32.71875 \nQ 79.890625 40.578125 77.09375 44.375 \nQ 74.3125 48.1875 68.609375 48.1875 \nQ 61.625 48.1875 57.5625 43.546875 \nQ 53.515625 38.921875 53.515625 30.90625 \nL 53.515625 0 \nL 44.484375 0 \nL 44.484375 32.71875 \nQ 44.484375 40.625 41.703125 44.40625 \nQ 38.921875 48.1875 33.109375 48.1875 \nQ 26.21875 48.1875 22.15625 43.53125 \nQ 18.109375 38.875 18.109375 30.90625 \nL 18.109375 0 \nL 9.078125 0 \nL 9.078125 54.6875 \nL 18.109375 54.6875 \nL 18.109375 46.1875 \nQ 21.1875 51.21875 25.484375 53.609375 \nQ 29.78125 56 35.6875 56 \nQ 41.65625 56 45.828125 52.96875 \nQ 50 49.953125 52 44.1875 \nz\n\" id=\"DejaVuSans-109\"/>\n      <path d=\"M 56.203125 29.59375 \nL 56.203125 25.203125 \nL 14.890625 25.203125 \nQ 15.484375 15.921875 20.484375 11.0625 \nQ 25.484375 6.203125 34.421875 6.203125 \nQ 39.59375 6.203125 44.453125 7.46875 \nQ 49.3125 8.734375 54.109375 11.28125 \nL 54.109375 2.78125 \nQ 49.265625 0.734375 44.1875 -0.34375 \nQ 39.109375 -1.421875 33.890625 -1.421875 \nQ 20.796875 -1.421875 13.15625 6.1875 \nQ 5.515625 13.8125 5.515625 26.8125 \nQ 5.515625 40.234375 12.765625 48.109375 \nQ 20.015625 56 32.328125 56 \nQ 43.359375 56 49.78125 48.890625 \nQ 56.203125 41.796875 56.203125 29.59375 \nz\nM 47.21875 32.234375 \nQ 47.125 39.59375 43.09375 43.984375 \nQ 39.0625 48.390625 32.421875 48.390625 \nQ 24.90625 48.390625 20.390625 44.140625 \nQ 15.875 39.890625 15.1875 32.171875 \nz\n\" id=\"DejaVuSans-101\"/>\n      <path d=\"M 41.109375 46.296875 \nQ 39.59375 47.171875 37.8125 47.578125 \nQ 36.03125 48 33.890625 48 \nQ 26.265625 48 22.1875 43.046875 \nQ 18.109375 38.09375 18.109375 28.8125 \nL 18.109375 0 \nL 9.078125 0 \nL 9.078125 54.6875 \nL 18.109375 54.6875 \nL 18.109375 46.1875 \nQ 20.953125 51.171875 25.484375 53.578125 \nQ 30.03125 56 36.53125 56 \nQ 37.453125 56 38.578125 55.875 \nQ 39.703125 55.765625 41.0625 55.515625 \nz\n\" id=\"DejaVuSans-114\"/>\n      <path d=\"M 30.609375 48.390625 \nQ 23.390625 48.390625 19.1875 42.75 \nQ 14.984375 37.109375 14.984375 27.296875 \nQ 14.984375 17.484375 19.15625 11.84375 \nQ 23.34375 6.203125 30.609375 6.203125 \nQ 37.796875 6.203125 41.984375 11.859375 \nQ 46.1875 17.53125 46.1875 27.296875 \nQ 46.1875 37.015625 41.984375 42.703125 \nQ 37.796875 48.390625 30.609375 48.390625 \nz\nM 30.609375 56 \nQ 42.328125 56 49.015625 48.375 \nQ 55.71875 40.765625 55.71875 27.296875 \nQ 55.71875 13.875 49.015625 6.21875 \nQ 42.328125 -1.421875 30.609375 -1.421875 \nQ 18.84375 -1.421875 12.171875 6.21875 \nQ 5.515625 13.875 5.515625 27.296875 \nQ 5.515625 40.765625 12.171875 48.375 \nQ 18.84375 56 30.609375 56 \nz\n\" id=\"DejaVuSans-111\"/>\n      <path id=\"DejaVuSans-32\"/>\n      <path d=\"M 45.40625 46.390625 \nL 45.40625 75.984375 \nL 54.390625 75.984375 \nL 54.390625 0 \nL 45.40625 0 \nL 45.40625 8.203125 \nQ 42.578125 3.328125 38.25 0.953125 \nQ 33.9375 -1.421875 27.875 -1.421875 \nQ 17.96875 -1.421875 11.734375 6.484375 \nQ 5.515625 14.40625 5.515625 27.296875 \nQ 5.515625 40.1875 11.734375 48.09375 \nQ 17.96875 56 27.875 56 \nQ 33.9375 56 38.25 53.625 \nQ 42.578125 51.265625 45.40625 46.390625 \nz\nM 14.796875 27.296875 \nQ 14.796875 17.390625 18.875 11.75 \nQ 22.953125 6.109375 30.078125 6.109375 \nQ 37.203125 6.109375 41.296875 11.75 \nQ 45.40625 17.390625 45.40625 27.296875 \nQ 45.40625 37.203125 41.296875 42.84375 \nQ 37.203125 48.484375 30.078125 48.484375 \nQ 22.953125 48.484375 18.875 42.84375 \nQ 14.796875 37.203125 14.796875 27.296875 \nz\n\" id=\"DejaVuSans-100\"/>\n      <path d=\"M 9.8125 72.90625 \nL 24.515625 72.90625 \nL 43.109375 23.296875 \nL 61.8125 72.90625 \nL 76.515625 72.90625 \nL 76.515625 0 \nL 66.890625 0 \nL 66.890625 64.015625 \nL 48.09375 14.015625 \nL 38.1875 14.015625 \nL 19.390625 64.015625 \nL 19.390625 0 \nL 9.8125 0 \nz\n\" id=\"DejaVuSans-77\"/>\n      <path d=\"M 34.28125 27.484375 \nQ 23.390625 27.484375 19.1875 25 \nQ 14.984375 22.515625 14.984375 16.5 \nQ 14.984375 11.71875 18.140625 8.90625 \nQ 21.296875 6.109375 26.703125 6.109375 \nQ 34.1875 6.109375 38.703125 11.40625 \nQ 43.21875 16.703125 43.21875 25.484375 \nL 43.21875 27.484375 \nz\nM 52.203125 31.203125 \nL 52.203125 0 \nL 43.21875 0 \nL 43.21875 8.296875 \nQ 40.140625 3.328125 35.546875 0.953125 \nQ 30.953125 -1.421875 24.3125 -1.421875 \nQ 15.921875 -1.421875 10.953125 3.296875 \nQ 6 8.015625 6 15.921875 \nQ 6 25.140625 12.171875 29.828125 \nQ 18.359375 34.515625 30.609375 34.515625 \nL 43.21875 34.515625 \nL 43.21875 35.40625 \nQ 43.21875 41.609375 39.140625 45 \nQ 35.0625 48.390625 27.6875 48.390625 \nQ 23 48.390625 18.546875 47.265625 \nQ 14.109375 46.140625 10.015625 43.890625 \nL 10.015625 52.203125 \nQ 14.9375 54.109375 19.578125 55.046875 \nQ 24.21875 56 28.609375 56 \nQ 40.484375 56 46.34375 49.84375 \nQ 52.203125 43.703125 52.203125 31.203125 \nz\n\" id=\"DejaVuSans-97\"/>\n      <path d=\"M 48.78125 52.59375 \nL 48.78125 44.1875 \nQ 44.96875 46.296875 41.140625 47.34375 \nQ 37.3125 48.390625 33.40625 48.390625 \nQ 24.65625 48.390625 19.8125 42.84375 \nQ 14.984375 37.3125 14.984375 27.296875 \nQ 14.984375 17.28125 19.8125 11.734375 \nQ 24.65625 6.203125 33.40625 6.203125 \nQ 37.3125 6.203125 41.140625 7.25 \nQ 44.96875 8.296875 48.78125 10.40625 \nL 48.78125 2.09375 \nQ 45.015625 0.34375 40.984375 -0.53125 \nQ 36.96875 -1.421875 32.421875 -1.421875 \nQ 20.0625 -1.421875 12.78125 6.34375 \nQ 5.515625 14.109375 5.515625 27.296875 \nQ 5.515625 40.671875 12.859375 48.328125 \nQ 20.21875 56 33.015625 56 \nQ 37.15625 56 41.109375 55.140625 \nQ 45.0625 54.296875 48.78125 52.59375 \nz\n\" id=\"DejaVuSans-99\"/>\n      <path d=\"M 54.890625 33.015625 \nL 54.890625 0 \nL 45.90625 0 \nL 45.90625 32.71875 \nQ 45.90625 40.484375 42.875 44.328125 \nQ 39.84375 48.1875 33.796875 48.1875 \nQ 26.515625 48.1875 22.3125 43.546875 \nQ 18.109375 38.921875 18.109375 30.90625 \nL 18.109375 0 \nL 9.078125 0 \nL 9.078125 75.984375 \nL 18.109375 75.984375 \nL 18.109375 46.1875 \nQ 21.34375 51.125 25.703125 53.5625 \nQ 30.078125 56 35.796875 56 \nQ 45.21875 56 50.046875 50.171875 \nQ 54.890625 44.34375 54.890625 33.015625 \nz\n\" id=\"DejaVuSans-104\"/>\n      <path d=\"M 31 75.875 \nQ 24.46875 64.65625 21.28125 53.65625 \nQ 18.109375 42.671875 18.109375 31.390625 \nQ 18.109375 20.125 21.3125 9.0625 \nQ 24.515625 -2 31 -13.1875 \nL 23.1875 -13.1875 \nQ 15.875 -1.703125 12.234375 9.375 \nQ 8.59375 20.453125 8.59375 31.390625 \nQ 8.59375 42.28125 12.203125 53.3125 \nQ 15.828125 64.359375 23.1875 75.875 \nz\n\" id=\"DejaVuSans-40\"/>\n      <path d=\"M 8.015625 75.875 \nL 15.828125 75.875 \nQ 23.140625 64.359375 26.78125 53.3125 \nQ 30.421875 42.28125 30.421875 31.390625 \nQ 30.421875 20.453125 26.78125 9.375 \nQ 23.140625 -1.703125 15.828125 -13.1875 \nL 8.015625 -13.1875 \nQ 14.5 -2 17.703125 9.0625 \nQ 20.90625 20.125 20.90625 31.390625 \nQ 20.90625 42.671875 17.703125 53.65625 \nQ 14.5 64.65625 8.015625 75.875 \nz\n\" id=\"DejaVuSans-41\"/>\n     </defs>\n     <g transform=\"translate(391.977734 331.839136)scale(0.15 -0.15)\">\n      <use xlink:href=\"#DejaVuSans-78\"/>\n      <use x=\"74.804688\" xlink:href=\"#DejaVuSans-250\"/>\n      <use x=\"138.183594\" xlink:href=\"#DejaVuSans-109\"/>\n      <use x=\"235.595703\" xlink:href=\"#DejaVuSans-101\"/>\n      <use x=\"297.119141\" xlink:href=\"#DejaVuSans-114\"/>\n      <use x=\"335.982422\" xlink:href=\"#DejaVuSans-111\"/>\n      <use x=\"397.164062\" xlink:href=\"#DejaVuSans-32\"/>\n      <use x=\"428.951172\" xlink:href=\"#DejaVuSans-100\"/>\n      <use x=\"492.427734\" xlink:href=\"#DejaVuSans-101\"/>\n      <use x=\"553.951172\" xlink:href=\"#DejaVuSans-32\"/>\n      <use x=\"585.738281\" xlink:href=\"#DejaVuSans-77\"/>\n      <use x=\"672.017578\" xlink:href=\"#DejaVuSans-97\"/>\n      <use x=\"733.296875\" xlink:href=\"#DejaVuSans-99\"/>\n      <use x=\"788.277344\" xlink:href=\"#DejaVuSans-104\"/>\n      <use x=\"851.65625\" xlink:href=\"#DejaVuSans-32\"/>\n      <use x=\"883.443359\" xlink:href=\"#DejaVuSans-40\"/>\n      <use x=\"922.457031\" xlink:href=\"#DejaVuSans-77\"/>\n      <use x=\"1008.736328\" xlink:href=\"#DejaVuSans-41\"/>\n     </g>\n    </g>\n   </g>\n   <g id=\"matplotlib.axis_2\">\n    <g id=\"ytick_1\">\n     <g id=\"line2d_17\">\n      <path clip-path=\"url(#p78931dc2c7)\" d=\"M 52.060156 260.73067 \nL 889.060156 260.73067 \n\" style=\"fill:none;stroke:#c8c8c8;stroke-linecap:square;stroke-width:0.4;\"/>\n     </g>\n     <g id=\"line2d_18\">\n      <defs>\n       <path d=\"M 0 0 \nL -3.5 0 \n\" id=\"m86fe6a6e42\" style=\"stroke:#000000;stroke-width:0.8;\"/>\n      </defs>\n      <g>\n       <use style=\"stroke:#000000;stroke-width:0.8;\" x=\"52.060156\" xlink:href=\"#m86fe6a6e42\" y=\"260.73067\"/>\n      </g>\n     </g>\n     <g id=\"text_10\">\n      <!-- 300 -->\n      <defs>\n       <path d=\"M 40.578125 39.3125 \nQ 47.65625 37.796875 51.625 33 \nQ 55.609375 28.21875 55.609375 21.1875 \nQ 55.609375 10.40625 48.1875 4.484375 \nQ 40.765625 -1.421875 27.09375 -1.421875 \nQ 22.515625 -1.421875 17.65625 -0.515625 \nQ 12.796875 0.390625 7.625 2.203125 \nL 7.625 11.71875 \nQ 11.71875 9.328125 16.59375 8.109375 \nQ 21.484375 6.890625 26.8125 6.890625 \nQ 36.078125 6.890625 40.9375 10.546875 \nQ 45.796875 14.203125 45.796875 21.1875 \nQ 45.796875 27.640625 41.28125 31.265625 \nQ 36.765625 34.90625 28.71875 34.90625 \nL 20.21875 34.90625 \nL 20.21875 43.015625 \nL 29.109375 43.015625 \nQ 36.375 43.015625 40.234375 45.921875 \nQ 44.09375 48.828125 44.09375 54.296875 \nQ 44.09375 59.90625 40.109375 62.90625 \nQ 36.140625 65.921875 28.71875 65.921875 \nQ 24.65625 65.921875 20.015625 65.03125 \nQ 15.375 64.15625 9.8125 62.3125 \nL 9.8125 71.09375 \nQ 15.4375 72.65625 20.34375 73.4375 \nQ 25.25 74.21875 29.59375 74.21875 \nQ 40.828125 74.21875 47.359375 69.109375 \nQ 53.90625 64.015625 53.90625 55.328125 \nQ 53.90625 49.265625 50.4375 45.09375 \nQ 46.96875 40.921875 40.578125 39.3125 \nz\n\" id=\"DejaVuSans-51\"/>\n      </defs>\n      <g transform=\"translate(25.972656 264.529889)scale(0.1 -0.1)\">\n       <use xlink:href=\"#DejaVuSans-51\"/>\n       <use x=\"63.623047\" xlink:href=\"#DejaVuSans-48\"/>\n       <use x=\"127.246094\" xlink:href=\"#DejaVuSans-48\"/>\n      </g>\n     </g>\n    </g>\n    <g id=\"ytick_2\">\n     <g id=\"line2d_19\">\n      <path clip-path=\"url(#p78931dc2c7)\" d=\"M 52.060156 209.851206 \nL 889.060156 209.851206 \n\" style=\"fill:none;stroke:#c8c8c8;stroke-linecap:square;stroke-width:0.4;\"/>\n     </g>\n     <g id=\"line2d_20\">\n      <g>\n       <use style=\"stroke:#000000;stroke-width:0.8;\" x=\"52.060156\" xlink:href=\"#m86fe6a6e42\" y=\"209.851206\"/>\n      </g>\n     </g>\n     <g id=\"text_11\">\n      <!-- 350 -->\n      <g transform=\"translate(25.972656 213.650425)scale(0.1 -0.1)\">\n       <use xlink:href=\"#DejaVuSans-51\"/>\n       <use x=\"63.623047\" xlink:href=\"#DejaVuSans-53\"/>\n       <use x=\"127.246094\" xlink:href=\"#DejaVuSans-48\"/>\n      </g>\n     </g>\n    </g>\n    <g id=\"ytick_3\">\n     <g id=\"line2d_21\">\n      <path clip-path=\"url(#p78931dc2c7)\" d=\"M 52.060156 158.971742 \nL 889.060156 158.971742 \n\" style=\"fill:none;stroke:#c8c8c8;stroke-linecap:square;stroke-width:0.4;\"/>\n     </g>\n     <g id=\"line2d_22\">\n      <g>\n       <use style=\"stroke:#000000;stroke-width:0.8;\" x=\"52.060156\" xlink:href=\"#m86fe6a6e42\" y=\"158.971742\"/>\n      </g>\n     </g>\n     <g id=\"text_12\">\n      <!-- 400 -->\n      <defs>\n       <path d=\"M 37.796875 64.3125 \nL 12.890625 25.390625 \nL 37.796875 25.390625 \nz\nM 35.203125 72.90625 \nL 47.609375 72.90625 \nL 47.609375 25.390625 \nL 58.015625 25.390625 \nL 58.015625 17.1875 \nL 47.609375 17.1875 \nL 47.609375 0 \nL 37.796875 0 \nL 37.796875 17.1875 \nL 4.890625 17.1875 \nL 4.890625 26.703125 \nz\n\" id=\"DejaVuSans-52\"/>\n      </defs>\n      <g transform=\"translate(25.972656 162.77096)scale(0.1 -0.1)\">\n       <use xlink:href=\"#DejaVuSans-52\"/>\n       <use x=\"63.623047\" xlink:href=\"#DejaVuSans-48\"/>\n       <use x=\"127.246094\" xlink:href=\"#DejaVuSans-48\"/>\n      </g>\n     </g>\n    </g>\n    <g id=\"ytick_4\">\n     <g id=\"line2d_23\">\n      <path clip-path=\"url(#p78931dc2c7)\" d=\"M 52.060156 108.092277 \nL 889.060156 108.092277 \n\" style=\"fill:none;stroke:#c8c8c8;stroke-linecap:square;stroke-width:0.4;\"/>\n     </g>\n     <g id=\"line2d_24\">\n      <g>\n       <use style=\"stroke:#000000;stroke-width:0.8;\" x=\"52.060156\" xlink:href=\"#m86fe6a6e42\" y=\"108.092277\"/>\n      </g>\n     </g>\n     <g id=\"text_13\">\n      <!-- 450 -->\n      <g transform=\"translate(25.972656 111.891496)scale(0.1 -0.1)\">\n       <use xlink:href=\"#DejaVuSans-52\"/>\n       <use x=\"63.623047\" xlink:href=\"#DejaVuSans-53\"/>\n       <use x=\"127.246094\" xlink:href=\"#DejaVuSans-48\"/>\n      </g>\n     </g>\n    </g>\n    <g id=\"ytick_5\">\n     <g id=\"line2d_25\">\n      <path clip-path=\"url(#p78931dc2c7)\" d=\"M 52.060156 57.212813 \nL 889.060156 57.212813 \n\" style=\"fill:none;stroke:#c8c8c8;stroke-linecap:square;stroke-width:0.4;\"/>\n     </g>\n     <g id=\"line2d_26\">\n      <g>\n       <use style=\"stroke:#000000;stroke-width:0.8;\" x=\"52.060156\" xlink:href=\"#m86fe6a6e42\" y=\"57.212813\"/>\n      </g>\n     </g>\n     <g id=\"text_14\">\n      <!-- 500 -->\n      <g transform=\"translate(25.972656 61.012031)scale(0.1 -0.1)\">\n       <use xlink:href=\"#DejaVuSans-53\"/>\n       <use x=\"63.623047\" xlink:href=\"#DejaVuSans-48\"/>\n       <use x=\"127.246094\" xlink:href=\"#DejaVuSans-48\"/>\n      </g>\n     </g>\n    </g>\n    <g id=\"text_15\">\n     <!-- Temperatura de Estagnação(K) -->\n     <defs>\n      <path d=\"M -0.296875 72.90625 \nL 61.375 72.90625 \nL 61.375 64.59375 \nL 35.5 64.59375 \nL 35.5 0 \nL 25.59375 0 \nL 25.59375 64.59375 \nL -0.296875 64.59375 \nz\n\" id=\"DejaVuSans-84\"/>\n      <path d=\"M 18.109375 8.203125 \nL 18.109375 -20.796875 \nL 9.078125 -20.796875 \nL 9.078125 54.6875 \nL 18.109375 54.6875 \nL 18.109375 46.390625 \nQ 20.953125 51.265625 25.265625 53.625 \nQ 29.59375 56 35.59375 56 \nQ 45.5625 56 51.78125 48.09375 \nQ 58.015625 40.1875 58.015625 27.296875 \nQ 58.015625 14.40625 51.78125 6.484375 \nQ 45.5625 -1.421875 35.59375 -1.421875 \nQ 29.59375 -1.421875 25.265625 0.953125 \nQ 20.953125 3.328125 18.109375 8.203125 \nz\nM 48.6875 27.296875 \nQ 48.6875 37.203125 44.609375 42.84375 \nQ 40.53125 48.484375 33.40625 48.484375 \nQ 26.265625 48.484375 22.1875 42.84375 \nQ 18.109375 37.203125 18.109375 27.296875 \nQ 18.109375 17.390625 22.1875 11.75 \nQ 26.265625 6.109375 33.40625 6.109375 \nQ 40.53125 6.109375 44.609375 11.75 \nQ 48.6875 17.390625 48.6875 27.296875 \nz\n\" id=\"DejaVuSans-112\"/>\n      <path d=\"M 18.3125 70.21875 \nL 18.3125 54.6875 \nL 36.8125 54.6875 \nL 36.8125 47.703125 \nL 18.3125 47.703125 \nL 18.3125 18.015625 \nQ 18.3125 11.328125 20.140625 9.421875 \nQ 21.96875 7.515625 27.59375 7.515625 \nL 36.8125 7.515625 \nL 36.8125 0 \nL 27.59375 0 \nQ 17.1875 0 13.234375 3.875 \nQ 9.28125 7.765625 9.28125 18.015625 \nL 9.28125 47.703125 \nL 2.6875 47.703125 \nL 2.6875 54.6875 \nL 9.28125 54.6875 \nL 9.28125 70.21875 \nz\n\" id=\"DejaVuSans-116\"/>\n      <path d=\"M 8.5 21.578125 \nL 8.5 54.6875 \nL 17.484375 54.6875 \nL 17.484375 21.921875 \nQ 17.484375 14.15625 20.5 10.265625 \nQ 23.53125 6.390625 29.59375 6.390625 \nQ 36.859375 6.390625 41.078125 11.03125 \nQ 45.3125 15.671875 45.3125 23.6875 \nL 45.3125 54.6875 \nL 54.296875 54.6875 \nL 54.296875 0 \nL 45.3125 0 \nL 45.3125 8.40625 \nQ 42.046875 3.421875 37.71875 1 \nQ 33.40625 -1.421875 27.6875 -1.421875 \nQ 18.265625 -1.421875 13.375 4.4375 \nQ 8.5 10.296875 8.5 21.578125 \nz\nM 31.109375 56 \nz\n\" id=\"DejaVuSans-117\"/>\n      <path d=\"M 9.8125 72.90625 \nL 55.90625 72.90625 \nL 55.90625 64.59375 \nL 19.671875 64.59375 \nL 19.671875 43.015625 \nL 54.390625 43.015625 \nL 54.390625 34.71875 \nL 19.671875 34.71875 \nL 19.671875 8.296875 \nL 56.78125 8.296875 \nL 56.78125 0 \nL 9.8125 0 \nz\n\" id=\"DejaVuSans-69\"/>\n      <path d=\"M 44.28125 53.078125 \nL 44.28125 44.578125 \nQ 40.484375 46.53125 36.375 47.5 \nQ 32.28125 48.484375 27.875 48.484375 \nQ 21.1875 48.484375 17.84375 46.4375 \nQ 14.5 44.390625 14.5 40.28125 \nQ 14.5 37.15625 16.890625 35.375 \nQ 19.28125 33.59375 26.515625 31.984375 \nL 29.59375 31.296875 \nQ 39.15625 29.25 43.1875 25.515625 \nQ 47.21875 21.78125 47.21875 15.09375 \nQ 47.21875 7.46875 41.1875 3.015625 \nQ 35.15625 -1.421875 24.609375 -1.421875 \nQ 20.21875 -1.421875 15.453125 -0.5625 \nQ 10.6875 0.296875 5.421875 2 \nL 5.421875 11.28125 \nQ 10.40625 8.6875 15.234375 7.390625 \nQ 20.0625 6.109375 24.8125 6.109375 \nQ 31.15625 6.109375 34.5625 8.28125 \nQ 37.984375 10.453125 37.984375 14.40625 \nQ 37.984375 18.0625 35.515625 20.015625 \nQ 33.0625 21.96875 24.703125 23.78125 \nL 21.578125 24.515625 \nQ 13.234375 26.265625 9.515625 29.90625 \nQ 5.8125 33.546875 5.8125 39.890625 \nQ 5.8125 47.609375 11.28125 51.796875 \nQ 16.75 56 26.8125 56 \nQ 31.78125 56 36.171875 55.265625 \nQ 40.578125 54.546875 44.28125 53.078125 \nz\n\" id=\"DejaVuSans-115\"/>\n      <path d=\"M 45.40625 27.984375 \nQ 45.40625 37.75 41.375 43.109375 \nQ 37.359375 48.484375 30.078125 48.484375 \nQ 22.859375 48.484375 18.828125 43.109375 \nQ 14.796875 37.75 14.796875 27.984375 \nQ 14.796875 18.265625 18.828125 12.890625 \nQ 22.859375 7.515625 30.078125 7.515625 \nQ 37.359375 7.515625 41.375 12.890625 \nQ 45.40625 18.265625 45.40625 27.984375 \nz\nM 54.390625 6.78125 \nQ 54.390625 -7.171875 48.1875 -13.984375 \nQ 42 -20.796875 29.203125 -20.796875 \nQ 24.46875 -20.796875 20.265625 -20.09375 \nQ 16.0625 -19.390625 12.109375 -17.921875 \nL 12.109375 -9.1875 \nQ 16.0625 -11.328125 19.921875 -12.34375 \nQ 23.78125 -13.375 27.78125 -13.375 \nQ 36.625 -13.375 41.015625 -8.765625 \nQ 45.40625 -4.15625 45.40625 5.171875 \nL 45.40625 9.625 \nQ 42.625 4.78125 38.28125 2.390625 \nQ 33.9375 0 27.875 0 \nQ 17.828125 0 11.671875 7.65625 \nQ 5.515625 15.328125 5.515625 27.984375 \nQ 5.515625 40.671875 11.671875 48.328125 \nQ 17.828125 56 27.875 56 \nQ 33.9375 56 38.28125 53.609375 \nQ 42.625 51.21875 45.40625 46.390625 \nL 45.40625 54.6875 \nL 54.390625 54.6875 \nz\n\" id=\"DejaVuSans-103\"/>\n      <path d=\"M 54.890625 33.015625 \nL 54.890625 0 \nL 45.90625 0 \nL 45.90625 32.71875 \nQ 45.90625 40.484375 42.875 44.328125 \nQ 39.84375 48.1875 33.796875 48.1875 \nQ 26.515625 48.1875 22.3125 43.546875 \nQ 18.109375 38.921875 18.109375 30.90625 \nL 18.109375 0 \nL 9.078125 0 \nL 9.078125 54.6875 \nL 18.109375 54.6875 \nL 18.109375 46.1875 \nQ 21.34375 51.125 25.703125 53.5625 \nQ 30.078125 56 35.796875 56 \nQ 45.21875 56 50.046875 50.171875 \nQ 54.890625 44.34375 54.890625 33.015625 \nz\n\" id=\"DejaVuSans-110\"/>\n      <path d=\"M 48.78125 52.59375 \nL 48.78125 44.1875 \nQ 44.96875 46.296875 41.140625 47.34375 \nQ 37.3125 48.390625 33.40625 48.390625 \nQ 24.65625 48.390625 19.8125 42.84375 \nQ 14.984375 37.3125 14.984375 27.296875 \nQ 14.984375 17.28125 19.8125 11.734375 \nQ 24.65625 6.203125 33.40625 6.203125 \nQ 37.3125 6.203125 41.140625 7.25 \nQ 44.96875 8.296875 48.78125 10.40625 \nL 48.78125 2.09375 \nQ 45.015625 0.34375 40.984375 -0.53125 \nQ 36.96875 -1.421875 32.421875 -1.421875 \nQ 20.0625 -1.421875 12.78125 6.34375 \nQ 5.515625 14.109375 5.515625 27.296875 \nQ 5.515625 40.671875 12.859375 48.328125 \nQ 20.21875 56 33.015625 56 \nQ 37.15625 56 41.109375 55.140625 \nQ 45.0625 54.296875 48.78125 52.59375 \nz\nM 36.109375 0 \nQ 38.78125 -3.03125 40.09375 -5.59375 \nQ 41.421875 -8.15625 41.421875 -10.5 \nQ 41.421875 -14.84375 38.484375 -17.0625 \nQ 35.5625 -19.28125 29.796875 -19.28125 \nQ 27.5625 -19.28125 25.4375 -18.984375 \nQ 23.3125 -18.703125 21.203125 -18.109375 \nL 21.203125 -11.71875 \nQ 22.875 -12.546875 24.671875 -12.90625 \nQ 26.484375 -13.28125 28.78125 -13.28125 \nQ 31.65625 -13.28125 33.125 -12.109375 \nQ 34.59375 -10.9375 34.59375 -8.6875 \nQ 34.59375 -7.234375 33.53125 -5.109375 \nQ 32.484375 -2.984375 30.296875 0 \nz\n\" id=\"DejaVuSans-231\"/>\n      <path d=\"M 34.28125 27.484375 \nQ 23.390625 27.484375 19.1875 25 \nQ 14.984375 22.515625 14.984375 16.5 \nQ 14.984375 11.71875 18.140625 8.90625 \nQ 21.296875 6.109375 26.703125 6.109375 \nQ 34.1875 6.109375 38.703125 11.40625 \nQ 43.21875 16.703125 43.21875 25.484375 \nL 43.21875 27.484375 \nz\nM 52.203125 31.203125 \nL 52.203125 0 \nL 43.21875 0 \nL 43.21875 8.296875 \nQ 40.140625 3.328125 35.546875 0.953125 \nQ 30.953125 -1.421875 24.3125 -1.421875 \nQ 15.921875 -1.421875 10.953125 3.296875 \nQ 6 8.015625 6 15.921875 \nQ 6 25.140625 12.171875 29.828125 \nQ 18.359375 34.515625 30.609375 34.515625 \nL 43.21875 34.515625 \nL 43.21875 35.40625 \nQ 43.21875 41.609375 39.140625 45 \nQ 35.0625 48.390625 27.6875 48.390625 \nQ 23 48.390625 18.546875 47.265625 \nQ 14.109375 46.140625 10.015625 43.890625 \nL 10.015625 52.203125 \nQ 14.9375 54.109375 19.578125 55.046875 \nQ 24.21875 56 28.609375 56 \nQ 40.484375 56 46.34375 49.84375 \nQ 52.203125 43.703125 52.203125 31.203125 \nz\nM 28.8125 66.890625 \nL 26.015625 69.578125 \nQ 24.953125 70.5625 24.140625 71.015625 \nQ 23.34375 71.484375 22.703125 71.484375 \nQ 20.84375 71.484375 19.96875 69.703125 \nQ 19.09375 67.921875 18.984375 63.921875 \nL 12.890625 63.921875 \nQ 12.984375 70.515625 15.46875 74.09375 \nQ 17.96875 77.6875 22.40625 77.6875 \nQ 24.265625 77.6875 25.828125 77 \nQ 27.390625 76.3125 29.203125 74.703125 \nL 31.984375 72.015625 \nQ 33.046875 71.046875 33.859375 70.578125 \nQ 34.671875 70.125 35.296875 70.125 \nQ 37.15625 70.125 38.03125 71.90625 \nQ 38.90625 73.6875 39.015625 77.6875 \nL 45.109375 77.6875 \nQ 45.015625 71.09375 42.515625 67.5 \nQ 40.03125 63.921875 35.59375 63.921875 \nQ 33.734375 63.921875 32.171875 64.59375 \nQ 30.609375 65.28125 28.8125 66.890625 \nz\n\" id=\"DejaVuSans-227\"/>\n      <path d=\"M 9.8125 72.90625 \nL 19.671875 72.90625 \nL 19.671875 42.09375 \nL 52.390625 72.90625 \nL 65.09375 72.90625 \nL 28.90625 38.921875 \nL 67.671875 0 \nL 54.6875 0 \nL 19.671875 35.109375 \nL 19.671875 0 \nL 9.8125 0 \nz\n\" id=\"DejaVuSans-75\"/>\n     </defs>\n     <g transform=\"translate(18.853125 280.033667)rotate(-90)scale(0.15 -0.15)\">\n      <use xlink:href=\"#DejaVuSans-84\"/>\n      <use x=\"44.083984\" xlink:href=\"#DejaVuSans-101\"/>\n      <use x=\"105.607422\" xlink:href=\"#DejaVuSans-109\"/>\n      <use x=\"203.019531\" xlink:href=\"#DejaVuSans-112\"/>\n      <use x=\"266.496094\" xlink:href=\"#DejaVuSans-101\"/>\n      <use x=\"328.019531\" xlink:href=\"#DejaVuSans-114\"/>\n      <use x=\"369.132812\" xlink:href=\"#DejaVuSans-97\"/>\n      <use x=\"430.412109\" xlink:href=\"#DejaVuSans-116\"/>\n      <use x=\"469.621094\" xlink:href=\"#DejaVuSans-117\"/>\n      <use x=\"533\" xlink:href=\"#DejaVuSans-114\"/>\n      <use x=\"574.113281\" xlink:href=\"#DejaVuSans-97\"/>\n      <use x=\"635.392578\" xlink:href=\"#DejaVuSans-32\"/>\n      <use x=\"667.179688\" xlink:href=\"#DejaVuSans-100\"/>\n      <use x=\"730.65625\" xlink:href=\"#DejaVuSans-101\"/>\n      <use x=\"792.179688\" xlink:href=\"#DejaVuSans-32\"/>\n      <use x=\"823.966797\" xlink:href=\"#DejaVuSans-69\"/>\n      <use x=\"887.150391\" xlink:href=\"#DejaVuSans-115\"/>\n      <use x=\"939.25\" xlink:href=\"#DejaVuSans-116\"/>\n      <use x=\"978.458984\" xlink:href=\"#DejaVuSans-97\"/>\n      <use x=\"1039.738281\" xlink:href=\"#DejaVuSans-103\"/>\n      <use x=\"1103.214844\" xlink:href=\"#DejaVuSans-110\"/>\n      <use x=\"1166.59375\" xlink:href=\"#DejaVuSans-97\"/>\n      <use x=\"1227.873047\" xlink:href=\"#DejaVuSans-231\"/>\n      <use x=\"1282.853516\" xlink:href=\"#DejaVuSans-227\"/>\n      <use x=\"1344.132812\" xlink:href=\"#DejaVuSans-111\"/>\n      <use x=\"1405.314453\" xlink:href=\"#DejaVuSans-40\"/>\n      <use x=\"1444.328125\" xlink:href=\"#DejaVuSans-75\"/>\n      <use x=\"1509.904297\" xlink:href=\"#DejaVuSans-41\"/>\n     </g>\n    </g>\n   </g>\n   <g id=\"line2d_27\">\n    <path clip-path=\"url(#p78931dc2c7)\" d=\"M 90.105611 260.926048 \nL 134.864969 255.639142 \nL 179.624327 249.390981 \nL 224.383686 242.181564 \nL 269.143044 234.010892 \nL 313.902402 224.878965 \nL 358.661761 214.785781 \nL 403.421119 203.731343 \nL 448.180477 191.715648 \nL 492.939835 178.738698 \nL 537.699194 164.800493 \nL 582.458552 149.901032 \nL 627.21791 134.040316 \nL 671.977269 117.218343 \nL 716.736627 99.435116 \nL 761.495985 80.690633 \nL 806.255343 60.984894 \nL 851.014702 40.3179 \n\" style=\"fill:none;stroke:#ff4d5d;stroke-linecap:square;stroke-width:1.5;\"/>\n   </g>\n   <g id=\"line2d_28\">\n    <path clip-path=\"url(#p78931dc2c7)\" d=\"M 90.105611 266.2226 \nL 134.864969 261.027481 \nL 179.624327 254.887795 \nL 224.383686 247.803542 \nL 269.143044 239.774722 \nL 313.902402 230.801334 \nL 358.661761 220.88338 \nL 403.421119 210.020858 \nL 448.180477 198.21377 \nL 492.939835 185.462114 \nL 537.699194 171.765892 \nL 582.458552 157.125102 \nL 627.21791 141.539745 \nL 671.977269 125.009821 \nL 716.736627 107.53533 \nL 761.495985 89.116272 \nL 806.255343 69.752647 \nL 851.014702 49.444455 \n\" style=\"fill:none;stroke:#ffa364;stroke-linecap:square;stroke-width:1.5;\"/>\n   </g>\n   <g id=\"line2d_29\">\n    <path clip-path=\"url(#p78931dc2c7)\" d=\"M 90.105611 271.519152 \nL 134.864969 266.41582 \nL 179.624327 260.384609 \nL 224.383686 253.425519 \nL 269.143044 245.538551 \nL 313.902402 236.723704 \nL 358.661761 226.980978 \nL 403.421119 216.310374 \nL 448.180477 204.711892 \nL 492.939835 192.18553 \nL 537.699194 178.73129 \nL 582.458552 164.349172 \nL 627.21791 149.039175 \nL 671.977269 132.801299 \nL 716.736627 115.635544 \nL 761.495985 97.541911 \nL 806.255343 78.5204 \nL 851.014702 58.571009 \n\" style=\"fill:none;stroke:#ffcb3a;stroke-linecap:square;stroke-width:1.5;\"/>\n   </g>\n   <g id=\"line2d_30\">\n    <path clip-path=\"url(#p78931dc2c7)\" d=\"M 90.105611 276.815704 \nL 134.864969 271.804159 \nL 179.624327 265.881423 \nL 224.383686 259.047496 \nL 269.143044 251.30238 \nL 313.902402 242.646074 \nL 358.661761 233.078577 \nL 403.421119 222.59989 \nL 448.180477 211.210013 \nL 492.939835 198.908946 \nL 537.699194 185.696689 \nL 582.458552 171.573242 \nL 627.21791 156.538604 \nL 671.977269 140.592776 \nL 716.736627 123.735759 \nL 761.495985 105.967551 \nL 806.255343 87.288153 \nL 851.014702 67.697564 \n\" style=\"fill:none;stroke:#8d8f8e;stroke-linecap:square;stroke-width:1.5;\"/>\n   </g>\n   <g id=\"line2d_31\">\n    <path clip-path=\"url(#p78931dc2c7)\" d=\"M 90.105611 282.112257 \nL 134.864969 277.192497 \nL 179.624327 271.378236 \nL 224.383686 264.669474 \nL 269.143044 257.066209 \nL 313.902402 248.568443 \nL 358.661761 239.176176 \nL 403.421119 228.889406 \nL 448.180477 217.708135 \nL 492.939835 205.632362 \nL 537.699194 192.662088 \nL 582.458552 178.797312 \nL 627.21791 164.038034 \nL 671.977269 148.384254 \nL 716.736627 131.835973 \nL 761.495985 114.39319 \nL 806.255343 96.055905 \nL 851.014702 76.824119 \n\" style=\"fill:none;stroke:#4ee2f0;stroke-linecap:square;stroke-width:1.5;\"/>\n   </g>\n   <g id=\"line2d_32\">\n    <path clip-path=\"url(#p78931dc2c7)\" d=\"M 90.105611 287.408809 \nL 134.864969 282.580836 \nL 179.624327 276.87505 \nL 224.383686 270.291451 \nL 269.143044 262.830039 \nL 313.902402 254.490813 \nL 358.661761 245.273774 \nL 403.421119 235.178922 \nL 448.180477 224.206257 \nL 492.939835 212.355778 \nL 537.699194 199.627486 \nL 582.458552 186.021381 \nL 627.21791 171.537463 \nL 671.977269 156.175732 \nL 716.736627 139.936187 \nL 761.495985 122.818829 \nL 806.255343 104.823658 \nL 851.014702 85.950674 \n\" style=\"fill:none;stroke:#496af0;stroke-linecap:square;stroke-width:1.5;\"/>\n   </g>\n   <g id=\"patch_3\">\n    <path d=\"M 52.060156 299.763354 \nL 52.060156 27.963354 \n\" style=\"fill:none;stroke:#000000;stroke-linecap:square;stroke-linejoin:miter;stroke-width:0.8;\"/>\n   </g>\n   <g id=\"patch_4\">\n    <path d=\"M 52.060156 299.763354 \nL 889.060156 299.763354 \n\" style=\"fill:none;stroke:#000000;stroke-linecap:square;stroke-linejoin:miter;stroke-width:0.8;\"/>\n   </g>\n   <g id=\"text_16\">\n    <!-- Temperatura de Estagnação em função do Número de Mach -->\n    <defs>\n     <path d=\"M 37.109375 75.984375 \nL 37.109375 68.5 \nL 28.515625 68.5 \nQ 23.6875 68.5 21.796875 66.546875 \nQ 19.921875 64.59375 19.921875 59.515625 \nL 19.921875 54.6875 \nL 34.71875 54.6875 \nL 34.71875 47.703125 \nL 19.921875 47.703125 \nL 19.921875 0 \nL 10.890625 0 \nL 10.890625 47.703125 \nL 2.296875 47.703125 \nL 2.296875 54.6875 \nL 10.890625 54.6875 \nL 10.890625 58.5 \nQ 10.890625 67.625 15.140625 71.796875 \nQ 19.390625 75.984375 28.609375 75.984375 \nz\n\" id=\"DejaVuSans-102\"/>\n    </defs>\n    <g style=\"fill:#4f4e4f;\" transform=\"translate(199.9175 21.597187)scale(0.18 -0.18)\">\n     <use xlink:href=\"#DejaVuSans-84\"/>\n     <use x=\"44.083984\" xlink:href=\"#DejaVuSans-101\"/>\n     <use x=\"105.607422\" xlink:href=\"#DejaVuSans-109\"/>\n     <use x=\"203.019531\" xlink:href=\"#DejaVuSans-112\"/>\n     <use x=\"266.496094\" xlink:href=\"#DejaVuSans-101\"/>\n     <use x=\"328.019531\" xlink:href=\"#DejaVuSans-114\"/>\n     <use x=\"369.132812\" xlink:href=\"#DejaVuSans-97\"/>\n     <use x=\"430.412109\" xlink:href=\"#DejaVuSans-116\"/>\n     <use x=\"469.621094\" xlink:href=\"#DejaVuSans-117\"/>\n     <use x=\"533\" xlink:href=\"#DejaVuSans-114\"/>\n     <use x=\"574.113281\" xlink:href=\"#DejaVuSans-97\"/>\n     <use x=\"635.392578\" xlink:href=\"#DejaVuSans-32\"/>\n     <use x=\"667.179688\" xlink:href=\"#DejaVuSans-100\"/>\n     <use x=\"730.65625\" xlink:href=\"#DejaVuSans-101\"/>\n     <use x=\"792.179688\" xlink:href=\"#DejaVuSans-32\"/>\n     <use x=\"823.966797\" xlink:href=\"#DejaVuSans-69\"/>\n     <use x=\"887.150391\" xlink:href=\"#DejaVuSans-115\"/>\n     <use x=\"939.25\" xlink:href=\"#DejaVuSans-116\"/>\n     <use x=\"978.458984\" xlink:href=\"#DejaVuSans-97\"/>\n     <use x=\"1039.738281\" xlink:href=\"#DejaVuSans-103\"/>\n     <use x=\"1103.214844\" xlink:href=\"#DejaVuSans-110\"/>\n     <use x=\"1166.59375\" xlink:href=\"#DejaVuSans-97\"/>\n     <use x=\"1227.873047\" xlink:href=\"#DejaVuSans-231\"/>\n     <use x=\"1282.853516\" xlink:href=\"#DejaVuSans-227\"/>\n     <use x=\"1344.132812\" xlink:href=\"#DejaVuSans-111\"/>\n     <use x=\"1405.314453\" xlink:href=\"#DejaVuSans-32\"/>\n     <use x=\"1437.101562\" xlink:href=\"#DejaVuSans-101\"/>\n     <use x=\"1498.625\" xlink:href=\"#DejaVuSans-109\"/>\n     <use x=\"1596.037109\" xlink:href=\"#DejaVuSans-32\"/>\n     <use x=\"1627.824219\" xlink:href=\"#DejaVuSans-102\"/>\n     <use x=\"1663.029297\" xlink:href=\"#DejaVuSans-117\"/>\n     <use x=\"1726.408203\" xlink:href=\"#DejaVuSans-110\"/>\n     <use x=\"1789.787109\" xlink:href=\"#DejaVuSans-231\"/>\n     <use x=\"1844.767578\" xlink:href=\"#DejaVuSans-227\"/>\n     <use x=\"1906.046875\" xlink:href=\"#DejaVuSans-111\"/>\n     <use x=\"1967.228516\" xlink:href=\"#DejaVuSans-32\"/>\n     <use x=\"1999.015625\" xlink:href=\"#DejaVuSans-100\"/>\n     <use x=\"2062.492188\" xlink:href=\"#DejaVuSans-111\"/>\n     <use x=\"2123.673828\" xlink:href=\"#DejaVuSans-32\"/>\n     <use x=\"2155.460938\" xlink:href=\"#DejaVuSans-78\"/>\n     <use x=\"2230.265625\" xlink:href=\"#DejaVuSans-250\"/>\n     <use x=\"2293.644531\" xlink:href=\"#DejaVuSans-109\"/>\n     <use x=\"2391.056641\" xlink:href=\"#DejaVuSans-101\"/>\n     <use x=\"2452.580078\" xlink:href=\"#DejaVuSans-114\"/>\n     <use x=\"2491.443359\" xlink:href=\"#DejaVuSans-111\"/>\n     <use x=\"2552.625\" xlink:href=\"#DejaVuSans-32\"/>\n     <use x=\"2584.412109\" xlink:href=\"#DejaVuSans-100\"/>\n     <use x=\"2647.888672\" xlink:href=\"#DejaVuSans-101\"/>\n     <use x=\"2709.412109\" xlink:href=\"#DejaVuSans-32\"/>\n     <use x=\"2741.199219\" xlink:href=\"#DejaVuSans-77\"/>\n     <use x=\"2827.478516\" xlink:href=\"#DejaVuSans-97\"/>\n     <use x=\"2888.757812\" xlink:href=\"#DejaVuSans-99\"/>\n     <use x=\"2943.738281\" xlink:href=\"#DejaVuSans-104\"/>\n    </g>\n   </g>\n   <g id=\"legend_1\">\n    <g id=\"patch_5\">\n     <path d=\"M 59.060156 124.032104 \nL 119.088281 124.032104 \nQ 121.088281 124.032104 121.088281 122.032104 \nL 121.088281 34.963354 \nQ 121.088281 32.963354 119.088281 32.963354 \nL 59.060156 32.963354 \nQ 57.060156 32.963354 57.060156 34.963354 \nL 57.060156 122.032104 \nQ 57.060156 124.032104 59.060156 124.032104 \nz\n\" style=\"fill:#ffffff;opacity:0.8;stroke:#cccccc;stroke-linejoin:miter;\"/>\n    </g>\n    <g id=\"line2d_33\">\n     <path d=\"M 61.060156 41.061792 \nL 81.060156 41.061792 \n\" style=\"fill:none;stroke:#ff4d5d;stroke-linecap:square;stroke-width:1.5;\"/>\n    </g>\n    <g id=\"line2d_34\"/>\n    <g id=\"text_17\">\n     <!-- 15ºC -->\n     <defs>\n      <path d=\"M 6.78125 28.90625 \nL 40.375 28.90625 \nL 40.375 22.90625 \nL 6.78125 22.90625 \nz\nM 23.578125 74.21875 \nQ 32.328125 74.21875 37.359375 68.8125 \nQ 42.390625 63.421875 42.390625 54.109375 \nQ 42.390625 44.78125 37.359375 39.421875 \nQ 32.328125 34.078125 23.578125 34.078125 \nQ 14.84375 34.078125 9.765625 39.453125 \nQ 4.6875 44.828125 4.6875 54.109375 \nQ 4.6875 63.421875 9.765625 68.8125 \nQ 14.84375 74.21875 23.578125 74.21875 \nz\nM 23.578125 68.609375 \nQ 18.453125 68.609375 15.375 64.671875 \nQ 12.3125 60.75 12.3125 54.109375 \nQ 12.3125 47.609375 15.40625 43.703125 \nQ 18.5 39.796875 23.578125 39.796875 \nQ 28.71875 39.796875 31.765625 43.703125 \nQ 34.8125 47.609375 34.8125 54.109375 \nQ 34.8125 60.796875 31.78125 64.703125 \nQ 28.765625 68.609375 23.578125 68.609375 \nz\n\" id=\"DejaVuSans-186\"/>\n      <path d=\"M 64.40625 67.28125 \nL 64.40625 56.890625 \nQ 59.421875 61.53125 53.78125 63.8125 \nQ 48.140625 66.109375 41.796875 66.109375 \nQ 29.296875 66.109375 22.65625 58.46875 \nQ 16.015625 50.828125 16.015625 36.375 \nQ 16.015625 21.96875 22.65625 14.328125 \nQ 29.296875 6.6875 41.796875 6.6875 \nQ 48.140625 6.6875 53.78125 8.984375 \nQ 59.421875 11.28125 64.40625 15.921875 \nL 64.40625 5.609375 \nQ 59.234375 2.09375 53.4375 0.328125 \nQ 47.65625 -1.421875 41.21875 -1.421875 \nQ 24.65625 -1.421875 15.125 8.703125 \nQ 5.609375 18.84375 5.609375 36.375 \nQ 5.609375 53.953125 15.125 64.078125 \nQ 24.65625 74.21875 41.21875 74.21875 \nQ 47.75 74.21875 53.53125 72.484375 \nQ 59.328125 70.75 64.40625 67.28125 \nz\n\" id=\"DejaVuSans-67\"/>\n     </defs>\n     <g transform=\"translate(89.060156 44.561792)scale(0.1 -0.1)\">\n      <use xlink:href=\"#DejaVuSans-49\"/>\n      <use x=\"63.623047\" xlink:href=\"#DejaVuSans-53\"/>\n      <use x=\"127.246094\" xlink:href=\"#DejaVuSans-186\"/>\n      <use x=\"174.365234\" xlink:href=\"#DejaVuSans-67\"/>\n     </g>\n    </g>\n    <g id=\"line2d_35\">\n     <path d=\"M 61.060156 55.739917 \nL 81.060156 55.739917 \n\" style=\"fill:none;stroke:#ffa364;stroke-linecap:square;stroke-width:1.5;\"/>\n    </g>\n    <g id=\"line2d_36\"/>\n    <g id=\"text_18\">\n     <!-- 10ºC -->\n     <g transform=\"translate(89.060156 59.239917)scale(0.1 -0.1)\">\n      <use xlink:href=\"#DejaVuSans-49\"/>\n      <use x=\"63.623047\" xlink:href=\"#DejaVuSans-48\"/>\n      <use x=\"127.246094\" xlink:href=\"#DejaVuSans-186\"/>\n      <use x=\"174.365234\" xlink:href=\"#DejaVuSans-67\"/>\n     </g>\n    </g>\n    <g id=\"line2d_37\">\n     <path d=\"M 61.060156 70.418042 \nL 81.060156 70.418042 \n\" style=\"fill:none;stroke:#ffcb3a;stroke-linecap:square;stroke-width:1.5;\"/>\n    </g>\n    <g id=\"line2d_38\"/>\n    <g id=\"text_19\">\n     <!-- 5ºC -->\n     <g transform=\"translate(89.060156 73.918042)scale(0.1 -0.1)\">\n      <use xlink:href=\"#DejaVuSans-53\"/>\n      <use x=\"63.623047\" xlink:href=\"#DejaVuSans-186\"/>\n      <use x=\"110.742188\" xlink:href=\"#DejaVuSans-67\"/>\n     </g>\n    </g>\n    <g id=\"line2d_39\">\n     <path d=\"M 61.060156 85.096167 \nL 81.060156 85.096167 \n\" style=\"fill:none;stroke:#8d8f8e;stroke-linecap:square;stroke-width:1.5;\"/>\n    </g>\n    <g id=\"line2d_40\"/>\n    <g id=\"text_20\">\n     <!-- 0ºC -->\n     <g transform=\"translate(89.060156 88.596167)scale(0.1 -0.1)\">\n      <use xlink:href=\"#DejaVuSans-48\"/>\n      <use x=\"63.623047\" xlink:href=\"#DejaVuSans-186\"/>\n      <use x=\"110.742188\" xlink:href=\"#DejaVuSans-67\"/>\n     </g>\n    </g>\n    <g id=\"line2d_41\">\n     <path d=\"M 61.060156 99.774292 \nL 81.060156 99.774292 \n\" style=\"fill:none;stroke:#4ee2f0;stroke-linecap:square;stroke-width:1.5;\"/>\n    </g>\n    <g id=\"line2d_42\"/>\n    <g id=\"text_21\">\n     <!-- -5ºC -->\n     <defs>\n      <path d=\"M 4.890625 31.390625 \nL 31.203125 31.390625 \nL 31.203125 23.390625 \nL 4.890625 23.390625 \nz\n\" id=\"DejaVuSans-45\"/>\n     </defs>\n     <g transform=\"translate(89.060156 103.274292)scale(0.1 -0.1)\">\n      <use xlink:href=\"#DejaVuSans-45\"/>\n      <use x=\"36.083984\" xlink:href=\"#DejaVuSans-53\"/>\n      <use x=\"99.707031\" xlink:href=\"#DejaVuSans-186\"/>\n      <use x=\"146.826172\" xlink:href=\"#DejaVuSans-67\"/>\n     </g>\n    </g>\n    <g id=\"line2d_43\">\n     <path d=\"M 61.060156 114.452417 \nL 81.060156 114.452417 \n\" style=\"fill:none;stroke:#496af0;stroke-linecap:square;stroke-width:1.5;\"/>\n    </g>\n    <g id=\"line2d_44\"/>\n    <g id=\"text_22\">\n     <!-- -10ºC -->\n     <g transform=\"translate(89.060156 117.952417)scale(0.1 -0.1)\">\n      <use xlink:href=\"#DejaVuSans-45\"/>\n      <use x=\"36.083984\" xlink:href=\"#DejaVuSans-49\"/>\n      <use x=\"99.707031\" xlink:href=\"#DejaVuSans-48\"/>\n      <use x=\"163.330078\" xlink:href=\"#DejaVuSans-186\"/>\n      <use x=\"210.449219\" xlink:href=\"#DejaVuSans-67\"/>\n     </g>\n    </g>\n   </g>\n  </g>\n </g>\n <defs>\n  <clipPath id=\"p78931dc2c7\">\n   <rect height=\"271.8\" width=\"837\" x=\"52.060156\" y=\"27.963354\"/>\n  </clipPath>\n </defs>\n</svg>\n"
          },
          "metadata": {
            "tags": [],
            "needs_background": "light"
          }
        }
      ]
    },
    {
      "cell_type": "markdown",
      "metadata": {
        "id": "AmqjL9KWjdcR"
      },
      "source": [
        "**7)**\tCalcule a que temperatura em graus Celsius corresponde 100 graus Fahrenheit (use a regra de três, considerando as temperaturas de solidificação e evaporação da água)."
      ]
    },
    {
      "cell_type": "markdown",
      "metadata": {
        "id": "I3o8hjzijpbQ"
      },
      "source": [
        "Temperatura de ebulição da água 212°F = 100°C\n",
        "\n",
        "Temperatura de solidificação da água 32°F = 0°C\n",
        "\n",
        "A escala graus Fahrenheit, considerando as temperaturas de solidificação e ebulição da água, vai de 32°F até 212°F, ou seja, tem uma amplitude de 180\n",
        "\n",
        "A escala de graus Celsius, levando em conta as mesmas considerações que a de graus Fahrenheit, vai de 0°C até 100°C, ou seja tem uma amplitude de 100\n",
        "\n",
        "A variação real de temperatura entre solidificação e ebulição da água nas duas escalas é igual, ou seja, (180/100) = 1.8.\n",
        "\n",
        "**100/180 = T[ºC]/(100-32)**\n",
        "\n"
      ]
    },
    {
      "cell_type": "code",
      "metadata": {
        "colab": {
          "base_uri": "https://localhost:8080/"
        },
        "id": "9CN1I3vUjrH2",
        "outputId": "c9410d74-6b64-427c-b2f7-1ae94868b968"
      },
      "source": [
        "T = (100-32)*10/18\n",
        "T"
      ],
      "execution_count": 135,
      "outputs": [
        {
          "output_type": "execute_result",
          "data": {
            "text/plain": [
              "37.77777777777778"
            ]
          },
          "metadata": {
            "tags": []
          },
          "execution_count": 135
        }
      ]
    },
    {
      "cell_type": "markdown",
      "metadata": {
        "id": "MToXsAYqj2tx"
      },
      "source": [
        "**8)** Completar a Tabela:\n",
        "\n",
        "\n",
        "| Cor           | 𝜆 (nm) | E(eV) | f(THz) | T(fs) |\n",
        "|---------------|--------|-------|--------|-------|\n",
        "|               |   310     | **4.00**  |  967      |  1.03     |\n",
        "| **Azul**          | **450**    | 2.76  | 667    | 1.5   |\n",
        "| **Verde**         | **550**    | 2.25  | 600    | 1.66  |\n",
        "| **Vermelho**      | **650**    | 1.90  | 461    | 2.16  |\n",
        "| **Infravermelho** | **800**    | 1.55  | 375    | 2.66  |\n",
        "|               | 3000   | 0.41  | 100    | 10    |"
      ]
    }
  ]
}